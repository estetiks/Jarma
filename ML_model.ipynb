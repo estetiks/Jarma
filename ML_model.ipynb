{
 "cells": [
  {
   "cell_type": "code",
   "execution_count": 2,
   "metadata": {},
   "outputs": [],
   "source": [
    "import pandas as pd"
   ]
  },
  {
   "cell_type": "code",
   "execution_count": 6,
   "metadata": {},
   "outputs": [
    {
     "name": "stdout",
     "output_type": "stream",
     "text": [
      "             dur proto service state  spkts  dpkts  sbytes  dbytes  \\\n",
      "0       0.121478   tcp       -   FIN      6      4     258     172   \n",
      "1       0.649902   tcp       -   FIN     14     38     734   42014   \n",
      "2       1.623129   tcp       -   FIN      8     16     364   13186   \n",
      "3       1.681642   tcp     ftp   FIN     12     12     628     770   \n",
      "4       0.449454   tcp       -   FIN     10      6     534     268   \n",
      "...          ...   ...     ...   ...    ...    ...     ...     ...   \n",
      "175336  0.000009   udp     dns   INT      2      0     114       0   \n",
      "175337  0.505762   tcp       -   FIN     10      8     620     354   \n",
      "175338  0.000009   udp     dns   INT      2      0     114       0   \n",
      "175339  0.000009   udp     dns   INT      2      0     114       0   \n",
      "175340  0.000009   udp     dns   INT      2      0     114       0   \n",
      "\n",
      "                 rate  sttl  ...  ct_dst_sport_ltm  ct_dst_src_ltm  \\\n",
      "0           74.087490   252  ...                 1               1   \n",
      "1           78.473372    62  ...                 1               2   \n",
      "2           14.170161    62  ...                 1               3   \n",
      "3           13.677108    62  ...                 1               3   \n",
      "4           33.373826   254  ...                 1              40   \n",
      "...               ...   ...  ...               ...             ...   \n",
      "175336  111111.107200   254  ...                13              24   \n",
      "175337      33.612649   254  ...                 1               2   \n",
      "175338  111111.107200   254  ...                 3              13   \n",
      "175339  111111.107200   254  ...                14              30   \n",
      "175340  111111.107200   254  ...                16              30   \n",
      "\n",
      "        is_ftp_login  ct_ftp_cmd  ct_flw_http_mthd  ct_src_ltm  ct_srv_dst  \\\n",
      "0                  0           0                 0           1           1   \n",
      "1                  0           0                 0           1           6   \n",
      "2                  0           0                 0           2           6   \n",
      "3                  1           1                 0           2           1   \n",
      "4                  0           0                 0           2          39   \n",
      "...              ...         ...               ...         ...         ...   \n",
      "175336             0           0                 0          24          24   \n",
      "175337             0           0                 0           1           1   \n",
      "175338             0           0                 0           3          12   \n",
      "175339             0           0                 0          30          30   \n",
      "175340             0           0                 0          30          30   \n",
      "\n",
      "        is_sm_ips_ports  attack_cat  label  \n",
      "0                     0      Normal      0  \n",
      "1                     0      Normal      0  \n",
      "2                     0      Normal      0  \n",
      "3                     0      Normal      0  \n",
      "4                     0      Normal      0  \n",
      "...                 ...         ...    ...  \n",
      "175336                0     Generic      1  \n",
      "175337                0   Shellcode      1  \n",
      "175338                0     Generic      1  \n",
      "175339                0     Generic      1  \n",
      "175340                0     Generic      1  \n",
      "\n",
      "[175341 rows x 44 columns]\n"
     ]
    }
   ],
   "source": [
    "dataset = pd.read_csv(\"UNSW_NB15_training-set.csv\")\n",
    "dataset.drop('id', axis=1, inplace=True)\n",
    "print(dataset)"
   ]
  }
 ],
 "metadata": {
  "kernelspec": {
   "display_name": "Python 3",
   "language": "python",
   "name": "python3"
  },
  "language_info": {
   "codemirror_mode": {
    "name": "ipython",
    "version": 3
   },
   "file_extension": ".py",
   "mimetype": "text/x-python",
   "name": "python",
   "nbconvert_exporter": "python",
   "pygments_lexer": "ipython3",
   "version": "3.11.9"
  }
 },
 "nbformat": 4,
 "nbformat_minor": 2
}
